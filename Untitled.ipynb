{
 "cells": [
  {
   "cell_type": "code",
   "execution_count": 1,
   "id": "cfa7cd42",
   "metadata": {},
   "outputs": [
    {
     "ename": "NoSuchElementException",
     "evalue": "Message: no such element: Unable to locate element: {\"method\":\"xpath\",\"selector\":\"//*[@data-cy=\"closeModal\" and @class=\"commonModal__close\"]\"}\n  (Session info: chrome=129.0.6668.58); For documentation on this error, please visit: https://www.selenium.dev/documentation/webdriver/troubleshooting/errors#no-such-element-exception\nStacktrace:\n\tGetHandleVerifier [0x00007FF6E2549412+29090]\n\t(No symbol) [0x00007FF6E24BE239]\n\t(No symbol) [0x00007FF6E237B1DA]\n\t(No symbol) [0x00007FF6E23CEFE7]\n\t(No symbol) [0x00007FF6E23CF23C]\n\t(No symbol) [0x00007FF6E24197C7]\n\t(No symbol) [0x00007FF6E23F672F]\n\t(No symbol) [0x00007FF6E24165A2]\n\t(No symbol) [0x00007FF6E23F6493]\n\t(No symbol) [0x00007FF6E23C09D1]\n\t(No symbol) [0x00007FF6E23C1B31]\n\tGetHandleVerifier [0x00007FF6E286871D+3302573]\n\tGetHandleVerifier [0x00007FF6E28B4243+3612627]\n\tGetHandleVerifier [0x00007FF6E28AA417+3572135]\n\tGetHandleVerifier [0x00007FF6E2605EB6+801862]\n\t(No symbol) [0x00007FF6E24C945F]\n\t(No symbol) [0x00007FF6E24C4FB4]\n\t(No symbol) [0x00007FF6E24C5140]\n\t(No symbol) [0x00007FF6E24B461F]\n\tBaseThreadInitThunk [0x00007FFCFD0D257D+29]\n\tRtlUserThreadStart [0x00007FFCFE88AF28+40]\n",
     "output_type": "error",
     "traceback": [
      "\u001b[1;31m---------------------------------------------------------------------------\u001b[0m",
      "\u001b[1;31mNoSuchElementException\u001b[0m                    Traceback (most recent call last)",
      "Cell \u001b[1;32mIn[1], line 14\u001b[0m\n\u001b[0;32m     12\u001b[0m driver\u001b[38;5;241m.\u001b[39mget(\u001b[38;5;124m\"\u001b[39m\u001b[38;5;124mhttps://www.makemytrip.com/\u001b[39m\u001b[38;5;124m\"\u001b[39m)\n\u001b[0;32m     13\u001b[0m driver\u001b[38;5;241m.\u001b[39mmaximize_window()\n\u001b[1;32m---> 14\u001b[0m driver\u001b[38;5;241m.\u001b[39mfind_element(By\u001b[38;5;241m.\u001b[39mXPATH,\u001b[38;5;124m'\u001b[39m\u001b[38;5;124m//*[@data-cy=\u001b[39m\u001b[38;5;124m\"\u001b[39m\u001b[38;5;124mcloseModal\u001b[39m\u001b[38;5;124m\"\u001b[39m\u001b[38;5;124m and @class=\u001b[39m\u001b[38;5;124m\"\u001b[39m\u001b[38;5;124mcommonModal__close\u001b[39m\u001b[38;5;124m\"\u001b[39m\u001b[38;5;124m]\u001b[39m\u001b[38;5;124m'\u001b[39m)\u001b[38;5;241m.\u001b[39mclick()\n\u001b[0;32m     16\u001b[0m datefind \u001b[38;5;241m=\u001b[39m wait\u001b[38;5;241m.\u001b[39muntil(EC\u001b[38;5;241m.\u001b[39mvisibility_of_element_located((By\u001b[38;5;241m.\u001b[39mXPATH,\u001b[38;5;124m'\u001b[39m\u001b[38;5;124m//*[@for=\u001b[39m\u001b[38;5;124m\"\u001b[39m\u001b[38;5;124mdeparture\u001b[39m\u001b[38;5;124m\"\u001b[39m\u001b[38;5;124m]\u001b[39m\u001b[38;5;124m'\u001b[39m)))\n\u001b[0;32m     17\u001b[0m datefind\u001b[38;5;241m.\u001b[39mclick()\n",
      "File \u001b[1;32mC:\\Python\\anaconda3\\Lib\\site-packages\\selenium\\webdriver\\remote\\webdriver.py:748\u001b[0m, in \u001b[0;36mWebDriver.find_element\u001b[1;34m(self, by, value)\u001b[0m\n\u001b[0;32m    745\u001b[0m     by \u001b[38;5;241m=\u001b[39m By\u001b[38;5;241m.\u001b[39mCSS_SELECTOR\n\u001b[0;32m    746\u001b[0m     value \u001b[38;5;241m=\u001b[39m \u001b[38;5;124mf\u001b[39m\u001b[38;5;124m'\u001b[39m\u001b[38;5;124m[name=\u001b[39m\u001b[38;5;124m\"\u001b[39m\u001b[38;5;132;01m{\u001b[39;00mvalue\u001b[38;5;132;01m}\u001b[39;00m\u001b[38;5;124m\"\u001b[39m\u001b[38;5;124m]\u001b[39m\u001b[38;5;124m'\u001b[39m\n\u001b[1;32m--> 748\u001b[0m \u001b[38;5;28;01mreturn\u001b[39;00m \u001b[38;5;28mself\u001b[39m\u001b[38;5;241m.\u001b[39mexecute(Command\u001b[38;5;241m.\u001b[39mFIND_ELEMENT, {\u001b[38;5;124m\"\u001b[39m\u001b[38;5;124musing\u001b[39m\u001b[38;5;124m\"\u001b[39m: by, \u001b[38;5;124m\"\u001b[39m\u001b[38;5;124mvalue\u001b[39m\u001b[38;5;124m\"\u001b[39m: value})[\u001b[38;5;124m\"\u001b[39m\u001b[38;5;124mvalue\u001b[39m\u001b[38;5;124m\"\u001b[39m]\n",
      "File \u001b[1;32mC:\\Python\\anaconda3\\Lib\\site-packages\\selenium\\webdriver\\remote\\webdriver.py:354\u001b[0m, in \u001b[0;36mWebDriver.execute\u001b[1;34m(self, driver_command, params)\u001b[0m\n\u001b[0;32m    352\u001b[0m response \u001b[38;5;241m=\u001b[39m \u001b[38;5;28mself\u001b[39m\u001b[38;5;241m.\u001b[39mcommand_executor\u001b[38;5;241m.\u001b[39mexecute(driver_command, params)\n\u001b[0;32m    353\u001b[0m \u001b[38;5;28;01mif\u001b[39;00m response:\n\u001b[1;32m--> 354\u001b[0m     \u001b[38;5;28mself\u001b[39m\u001b[38;5;241m.\u001b[39merror_handler\u001b[38;5;241m.\u001b[39mcheck_response(response)\n\u001b[0;32m    355\u001b[0m     response[\u001b[38;5;124m\"\u001b[39m\u001b[38;5;124mvalue\u001b[39m\u001b[38;5;124m\"\u001b[39m] \u001b[38;5;241m=\u001b[39m \u001b[38;5;28mself\u001b[39m\u001b[38;5;241m.\u001b[39m_unwrap_value(response\u001b[38;5;241m.\u001b[39mget(\u001b[38;5;124m\"\u001b[39m\u001b[38;5;124mvalue\u001b[39m\u001b[38;5;124m\"\u001b[39m, \u001b[38;5;28;01mNone\u001b[39;00m))\n\u001b[0;32m    356\u001b[0m     \u001b[38;5;28;01mreturn\u001b[39;00m response\n",
      "File \u001b[1;32mC:\\Python\\anaconda3\\Lib\\site-packages\\selenium\\webdriver\\remote\\errorhandler.py:229\u001b[0m, in \u001b[0;36mErrorHandler.check_response\u001b[1;34m(self, response)\u001b[0m\n\u001b[0;32m    227\u001b[0m         alert_text \u001b[38;5;241m=\u001b[39m value[\u001b[38;5;124m\"\u001b[39m\u001b[38;5;124malert\u001b[39m\u001b[38;5;124m\"\u001b[39m]\u001b[38;5;241m.\u001b[39mget(\u001b[38;5;124m\"\u001b[39m\u001b[38;5;124mtext\u001b[39m\u001b[38;5;124m\"\u001b[39m)\n\u001b[0;32m    228\u001b[0m     \u001b[38;5;28;01mraise\u001b[39;00m exception_class(message, screen, stacktrace, alert_text)  \u001b[38;5;66;03m# type: ignore[call-arg]  # mypy is not smart enough here\u001b[39;00m\n\u001b[1;32m--> 229\u001b[0m \u001b[38;5;28;01mraise\u001b[39;00m exception_class(message, screen, stacktrace)\n",
      "\u001b[1;31mNoSuchElementException\u001b[0m: Message: no such element: Unable to locate element: {\"method\":\"xpath\",\"selector\":\"//*[@data-cy=\"closeModal\" and @class=\"commonModal__close\"]\"}\n  (Session info: chrome=129.0.6668.58); For documentation on this error, please visit: https://www.selenium.dev/documentation/webdriver/troubleshooting/errors#no-such-element-exception\nStacktrace:\n\tGetHandleVerifier [0x00007FF6E2549412+29090]\n\t(No symbol) [0x00007FF6E24BE239]\n\t(No symbol) [0x00007FF6E237B1DA]\n\t(No symbol) [0x00007FF6E23CEFE7]\n\t(No symbol) [0x00007FF6E23CF23C]\n\t(No symbol) [0x00007FF6E24197C7]\n\t(No symbol) [0x00007FF6E23F672F]\n\t(No symbol) [0x00007FF6E24165A2]\n\t(No symbol) [0x00007FF6E23F6493]\n\t(No symbol) [0x00007FF6E23C09D1]\n\t(No symbol) [0x00007FF6E23C1B31]\n\tGetHandleVerifier [0x00007FF6E286871D+3302573]\n\tGetHandleVerifier [0x00007FF6E28B4243+3612627]\n\tGetHandleVerifier [0x00007FF6E28AA417+3572135]\n\tGetHandleVerifier [0x00007FF6E2605EB6+801862]\n\t(No symbol) [0x00007FF6E24C945F]\n\t(No symbol) [0x00007FF6E24C4FB4]\n\t(No symbol) [0x00007FF6E24C5140]\n\t(No symbol) [0x00007FF6E24B461F]\n\tBaseThreadInitThunk [0x00007FFCFD0D257D+29]\n\tRtlUserThreadStart [0x00007FFCFE88AF28+40]\n"
     ]
    }
   ],
   "source": [
    "import time\n",
    "from selenium import webdriver\n",
    "from selenium.webdriver.common.by import By\n",
    "from selenium.webdriver.chrome.service import Service\n",
    "from selenium.webdriver.support.wait import WebDriverWait\n",
    "from selenium.webdriver.support import expected_conditions as EC\n",
    "\n",
    "service = Service(r\"C:\\Users\\sibup\\Downloads\\Drivers\\chromedriver.exe\")\n",
    "driver = webdriver.Chrome(service=service)\n",
    "wait = WebDriverWait(driver,120,poll_frequency=2, ignored_exceptions=[Exception])\n",
    "\n",
    "driver.get(\"https://www.makemytrip.com/\")\n",
    "driver.maximize_window()\n",
    "driver.find_element(By.XPATH,'//*[@data-cy=\"closeModal\" and @class=\"commonModal__close\"]').click()\n",
    "\n",
    "datefind = wait.until(EC.visibility_of_element_located((By.XPATH,'//*[@for=\"departure\"]')))\n",
    "datefind.click()\n",
    "switchdate = wait.until(EC.visibility_of_element_located((By.XPATH,'//*[@role=\"button\" and @aria-label=\"Next Month\"]')))\n",
    "# switchdate.click()\n",
    "# time.sleep(3)\n",
    "# switchdate.click()\n",
    "# time.sleep(3)\n",
    "\n",
    "n = 1\n",
    "while n>0:\n",
    "    switchdate.click()\n",
    "    x = driver.find_elements(By.XPATH,'//*[@class=\"DayPicker-Caption\" and @role=\"heading\"]')\n",
    "    a = x[0].text\n",
    "    b = x[1].text\n",
    "    if a == \"August 2025\" or b == \"August 2025\":\n",
    "        driver.find_element(By.XPATH,'(//*[@class = \"dateInnerCell\"])[1]').click()\n",
    "    n += 1\n",
    "    time.sleep(2)\n"
   ]
  },
  {
   "cell_type": "code",
   "execution_count": null,
   "id": "875e5888",
   "metadata": {},
   "outputs": [],
   "source": [
    "# n = 1\n",
    "# while n>0:\n",
    "#     switchdate.click()\n",
    "#     x = driver.find_elements(By.XPATH,'//*[@class=\"DayPicker-Caption\" and @role=\"heading\"]')\n",
    "#     a = x[0].text\n",
    "#     b = x[1].text\n",
    "#     if a == \"August 2025\" or b == \"August 2025\":\n",
    "#         driver.find_element(By.XPATH,'(//*[@class = \"dateInnerCell\"])[1]').click()\n",
    "#     n += 1\n",
    "#     time.sleep(2)"
   ]
  },
  {
   "cell_type": "code",
   "execution_count": null,
   "id": "a521f96c",
   "metadata": {},
   "outputs": [],
   "source": []
  },
  {
   "cell_type": "code",
   "execution_count": null,
   "id": "2d1d6f50",
   "metadata": {},
   "outputs": [],
   "source": []
  }
 ],
 "metadata": {
  "kernelspec": {
   "display_name": "Python 3 (ipykernel)",
   "language": "python",
   "name": "python3"
  },
  "language_info": {
   "codemirror_mode": {
    "name": "ipython",
    "version": 3
   },
   "file_extension": ".py",
   "mimetype": "text/x-python",
   "name": "python",
   "nbconvert_exporter": "python",
   "pygments_lexer": "ipython3",
   "version": "3.11.5"
  }
 },
 "nbformat": 4,
 "nbformat_minor": 5
}
